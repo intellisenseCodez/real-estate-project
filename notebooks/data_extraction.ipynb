{
 "cells": [
  {
   "cell_type": "markdown",
   "id": "8040e6f4-3205-48c7-9194-95b082a63744",
   "metadata": {},
   "source": [
    "# Data Extraction from PropertyPro Website"
   ]
  },
  {
   "cell_type": "code",
   "execution_count": 158,
   "id": "d8270e02-c160-459d-bbb9-72a967c4acaa",
   "metadata": {},
   "outputs": [],
   "source": [
    "import requests\n",
    "from bs4 import BeautifulSoup\n",
    "import time\n",
    "import pandas as pd"
   ]
  },
  {
   "cell_type": "code",
   "execution_count": 159,
   "id": "64559e1b-e22c-4533-a216-21595486c3fa",
   "metadata": {},
   "outputs": [],
   "source": [
    "HEADER = {\n",
    "    \"User-Agent\": \"Mozilla/5.0 (Macintosh; Intel Mac OS X 10_15_7) AppleWebKit/537.36 (KHTML, like Gecko) Chrome/141.0.0.0 Safari/537.36\"\n",
    "}\n",
    "\n",
    "def make_connection(url):\n",
    "    \"\"\" \n",
    "    Make a request to HTTP URL \n",
    "    return BeautifulSoup Object\n",
    "    \"\"\"\n",
    "    try:\n",
    "        response = requests.get(url, headers=HEADER)\n",
    "        # check the response status code\n",
    "        if response.status_code == 200:\n",
    "            soup_content = BeautifulSoup(response.content, \"html.parser\")\n",
    "            return soup_content\n",
    "        else:\n",
    "            print(f\"Resources Not Available! Status Code {response.status_code}\")\n",
    "    except Exception as e:\n",
    "        print(f\"An Error occurs. Message: {e}\")\n",
    "\n",
    "\n",
    "def scrape_single_page_property(property_content_divs):\n",
    "    \"\"\"\n",
    "    scrape single page property \n",
    "    return a list of dictionary\n",
    "    \"\"\"\n",
    "    single_page_property = []\n",
    "    \n",
    "    for property_content_div in property_content_divs:\n",
    "\n",
    "        # check each att\n",
    "        property_title_div = property_content_div.find('div', class_=\"pl-title\").find(\"h3\") \n",
    "        property_title = property_title_div.get_text() if property_title_div is not None else \"N/A\"\n",
    "        \n",
    "        property_price_div = property_content_div.find('div', class_=\"pl-price\").find(\"h3\")\n",
    "        property_price = property_price_div.get_text() if property_price_div is not None else \"N/A\"\n",
    "\n",
    "        property_address_div = property_content_div.find('div', class_=\"pl-title\").find(\"p\")\n",
    "        property_address = property_address_div.get_text() if property_address_div is not None else \"N/A\"\n",
    "        \n",
    "        property_amenities_div = property_content_div.find('div', class_=\"pl-price\").find(\"h6\")\n",
    "        property_amenities = property_amenities_div.get_text() if property_amenities_div is not None else \"N/A\"\n",
    "        \n",
    "        property_type_div = property_content_div.find('div', class_=\"pl-title\").find(\"h6\").find('a')\n",
    "        property_type = property_type_div.get_text() if property_type_div is not None else \"N/A\"\n",
    "\n",
    "        property_agent_div = property_content_div.find(\"div\", class_=\"flex-grow-1 ms-2\")\n",
    "        property_agent = property_agent_div.get_text() if property_agent_div is not None else \"N/A\"\n",
    "        \n",
    "        property_link_div = property_content_div.find('div', class_=\"pl-title\").find(\"h6\").find('a')\n",
    "        property_link = property_link_div.get(\"href\") if property_link_div is not None else \"N/A\"\n",
    "        \n",
    "        property_date_div = property_content_div.find(\"p\", class_=\"date-added\")\n",
    "        property_date = property_date_div.get_text() if property_date_div is not None else \"N/A\"\n",
    "\n",
    "        single_property = {\n",
    "            \"title\": property_title,\n",
    "            \"price\": property_price,\n",
    "            \"address\": property_address,\n",
    "            \"amenities\": property_amenities,\n",
    "            \"type\": property_type,\n",
    "            \"agent\": property_agent,\n",
    "            \"link\": property_link,\n",
    "            \"date\": property_date\n",
    "        }\n",
    "\n",
    "        single_page_property.append(single_property)\n",
    "    return single_page_property"
   ]
  },
  {
   "cell_type": "markdown",
   "id": "af6c8a35-a9dc-4de9-8e69-aea61a892c08",
   "metadata": {},
   "source": [
    "**Attributes**\n",
    "- **Property Title**: `property_content_div.find('div', class_=\"pl-title\").find(\"h3\").get_text()`\n",
    "- **Property Price**: `property_content_div.find('div', class_=\"pl-price\").find(\"h3\").get_text()`\n",
    "- **Property Address**: `property_content_div.find('div', class_=\"pl-title\").find(\"p\").get_text()`\n",
    "- **Property Amenities**: `property_content_div.find('div', class_=\"pl-price\").find(\"h6\").get_text()`\n",
    "- **Property Type**: `property_content_div.find('div', class_=\"pl-title\").find(\"h6\").find('a').get_text()`\n",
    "- **Property Agent**: `property_content_div.find(\"div\", class_=\"flex-grow-1 ms-2\").get_text()`\n",
    "- **Property Link**: `property_content_div.find('div', class_=\"pl-title\").find(\"h6\").find('a').get(\"href\")`\n",
    "- **Property Date**: `property_content_div.find(\"p\", class_=\"date-added\").get_text()`"
   ]
  },
  {
   "cell_type": "code",
   "execution_count": 160,
   "id": "20e1d9a0-b05b-4981-b3db-7ca524a5d6f2",
   "metadata": {},
   "outputs": [
    {
     "name": "stdout",
     "output_type": "stream",
     "text": [
      "Scraping property data from page 1\n",
      "Property Scraped successfully: 22 Properties Retrieved\n",
      "Scraping property data from page 2\n",
      "Property Scraped successfully: 22 Properties Retrieved\n"
     ]
    }
   ],
   "source": [
    "# all properties: 230 page\n",
    "all_property = {}\n",
    "\n",
    "for page_num in range(1,3):\n",
    "\n",
    "    # website URL\n",
    "    URL = f\"https://propertypro.ng/property-for-sale?page={page_num}\"\n",
    "\n",
    "    print(f\"Scraping property data from page {page_num}\")\n",
    "\n",
    "    # make a connection\n",
    "    soup_content = make_connection(URL)\n",
    "\n",
    "    property_content_divs = soup_content.find_all(\"div\", class_=\"property-listing-content\")\n",
    "\n",
    "    single_page_property = scrape_single_page_property(property_content_divs)\n",
    "    print(f\"Property Scraped successfully: {len(single_page_property)} Properties Retrieved\")\n",
    "\n",
    "    # sleep\n",
    "    time.sleep(5)\n",
    "\n",
    "\n",
    "    all_property.update({f\"page {page_num}\":single_page_property})\n"
   ]
  },
  {
   "cell_type": "code",
   "execution_count": 193,
   "id": "32361cf1-f4da-435e-8907-c861cbcc70d6",
   "metadata": {},
   "outputs": [],
   "source": [
    "# empty dataframe\n",
    "house_df = pd.DataFrame({\"title\": [], \"price\": [], \"address\": [], \"amenities\": [],\n",
    "                   \"type\": [], \"agent\": [], \"link\": [], \"date\": []}) # empty dataframe\n"
   ]
  },
  {
   "cell_type": "code",
   "execution_count": 194,
   "id": "9819fc77-8cff-4a64-992c-298e802e2734",
   "metadata": {},
   "outputs": [],
   "source": [
    "# concatenate all pages into a dataframe\n",
    "for page_key in all_property.keys():\n",
    "    \n",
    "    house_df = pd.concat([house_df, pd.DataFrame(all_property[page_key])], ignore_index=True)\n",
    "    "
   ]
  },
  {
   "cell_type": "code",
   "execution_count": 196,
   "id": "89f3ad65-75bd-47d6-9cf4-829174be3b83",
   "metadata": {},
   "outputs": [],
   "source": [
    "# save dataframe to CSV\n",
    "house_df.to_csv(\"raw_housing_property.csv\", index=False)"
   ]
  },
  {
   "cell_type": "code",
   "execution_count": null,
   "id": "48636e77-85ba-4dc3-9905-98c0ed93f82d",
   "metadata": {},
   "outputs": [],
   "source": []
  }
 ],
 "metadata": {
  "kernelspec": {
   "display_name": "Python [conda env:base] *",
   "language": "python",
   "name": "conda-base-py"
  },
  "language_info": {
   "codemirror_mode": {
    "name": "ipython",
    "version": 3
   },
   "file_extension": ".py",
   "mimetype": "text/x-python",
   "name": "python",
   "nbconvert_exporter": "python",
   "pygments_lexer": "ipython3",
   "version": "3.13.5"
  }
 },
 "nbformat": 4,
 "nbformat_minor": 5
}
