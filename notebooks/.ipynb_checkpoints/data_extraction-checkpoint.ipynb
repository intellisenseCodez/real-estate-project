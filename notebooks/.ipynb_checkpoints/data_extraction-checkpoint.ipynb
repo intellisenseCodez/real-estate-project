{
 "cells": [
  {
   "cell_type": "markdown",
   "id": "8040e6f4-3205-48c7-9194-95b082a63744",
   "metadata": {},
   "source": [
    "# Data Extraction from PropertyPro Website"
   ]
  },
  {
   "cell_type": "code",
   "execution_count": 7,
   "id": "d8270e02-c160-459d-bbb9-72a967c4acaa",
   "metadata": {},
   "outputs": [],
   "source": [
    "import requests\n",
    "from bs4 import BeautifulSoup"
   ]
  },
  {
   "cell_type": "code",
   "execution_count": 30,
   "id": "64559e1b-e22c-4533-a216-21595486c3fa",
   "metadata": {},
   "outputs": [],
   "source": [
    "URL = \"https://propertypro.ng/property-for-sale\"\n",
    "\n",
    "HEADER = {\n",
    "    \"User-Agent\": \"Mozilla/5.0 (Macintosh; Intel Mac OS X 10_15_7) AppleWebKit/537.36 (KHTML, like Gecko) Chrome/141.0.0.0 Safari/537.36\"\n",
    "}\n",
    "\n",
    "def make_connection(url):\n",
    "    try:\n",
    "        response = requests.get(url, headers=HEADER)\n",
    "        if response.status_code == 200:\n",
    "            soup_content = BeautifulSoup(response.content, \"html.parser\")\n",
    "            return soup_content\n",
    "        else:\n",
    "            print(f\"Resources Not Available! Status Code {response.status_code}\")\n",
    "    except Exception as e:\n",
    "        print(f\"An Error occurs. Message: {e}\")"
   ]
  },
  {
   "cell_type": "code",
   "execution_count": 31,
   "id": "b61e73f8-5c2c-4f8a-80d1-36212f668244",
   "metadata": {
    "scrolled": true
   },
   "outputs": [],
   "source": [
    "content = make_connection(url=URL)"
   ]
  },
  {
   "cell_type": "code",
   "execution_count": 32,
   "id": "df144a8f-e583-469d-8e87-5445acf23acd",
   "metadata": {},
   "outputs": [],
   "source": [
    "content.find(\"div\", style={'class':'property-listing-content'})"
   ]
  },
  {
   "cell_type": "code",
   "execution_count": null,
   "id": "819854e6-3a4c-420a-a375-cfb31ede1e75",
   "metadata": {},
   "outputs": [],
   "source": []
  }
 ],
 "metadata": {
  "kernelspec": {
   "display_name": "Python [conda env:base] *",
   "language": "python",
   "name": "conda-base-py"
  },
  "language_info": {
   "codemirror_mode": {
    "name": "ipython",
    "version": 3
   },
   "file_extension": ".py",
   "mimetype": "text/x-python",
   "name": "python",
   "nbconvert_exporter": "python",
   "pygments_lexer": "ipython3",
   "version": "3.13.5"
  }
 },
 "nbformat": 4,
 "nbformat_minor": 5
}
